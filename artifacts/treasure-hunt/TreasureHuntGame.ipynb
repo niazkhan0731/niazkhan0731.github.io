{
 "cells": [
  {
   "cell_type": "markdown",
   "metadata": {},
   "source": [
    "# Treasure Hunt Game Notebook\n",
    "\n",
    "## Read and Review Your Starter Code\n",
    "The theme of this project is a popular treasure hunt game in which the player needs to find the treasure before the pirate does. While you will not be developing the entire game, you will write the part of the game that represents the intelligent agent, which is a pirate in this case. The pirate will try to find the optimal path to the treasure using deep Q-learning. \n",
    "\n",
    "You have been provided with two Python classes and this notebook to help you with this assignment. The first class, TreasureMaze.py, represents the environment, which includes a maze object defined as a matrix. The second class, GameExperience.py, stores the episodes – that is, all the states that come in between the initial state and the terminal state. This is later used by the agent for learning by experience, called \"exploration\". This notebook shows how to play a game. Your task is to complete the deep Q-learning implementation for which a skeleton implementation has been provided. The code blocks you will need to complete has #TODO as a header.\n",
    "\n",
    "First, read and review the next few code and instruction blocks to understand the code that you have been given."
   ]
  },
  {
   "cell_type": "code",
   "execution_count": 1,
   "metadata": {},
   "outputs": [
    {
     "name": "stdout",
     "output_type": "stream",
     "text": [
      "Python: 3.11.13 (main, Jun  3 2025, 18:38:25) [Clang 17.0.0 (clang-1700.0.13.3)]\n",
      "TF version: 2.16.1\n",
      "NumPy: 1.26.4\n",
      "SEED = 42\n"
     ]
    }
   ],
   "source": [
    "import os, pathlib\n",
    "os.environ[\"MPLCONFIGDIR\"] = str(pathlib.Path.home()/\".config\"/\"matplotlib\"); pathlib.Path(os.environ[\"MPLCONFIGDIR\"]).mkdir(parents=True, exist_ok=True)\n",
    "\n",
    "\n",
    "import os, sys, time, datetime, json, random\n",
    "import numpy as np\n",
    "import matplotlib.pyplot as plt\n",
    "\n",
    "import tensorflow as tf\n",
    "from tensorflow.keras.models import Sequential\n",
    "from tensorflow.keras.layers import Dense\n",
    "from tensorflow.keras.optimizers import Adam\n",
    "\n",
    "from TreasureMaze import TreasureMaze, UP, RIGHT, DOWN, LEFT\n",
    "from GameExperience import GameExperience\n",
    "\n",
    "%matplotlib inline\n",
    "\n",
    "SEED = 42\n",
    "random.seed(SEED)\n",
    "np.random.seed(SEED)\n",
    "tf.random.set_seed(SEED)\n",
    "\n",
    "np.set_printoptions(suppress=True, linewidth=120)\n",
    "\n",
    "print(\"Python:\", sys.version)\n",
    "print(\"TF version:\", tf.__version__)\n",
    "print(\"NumPy:\", np.__version__)\n",
    "print(\"SEED =\", SEED)"
   ]
  },
  {
   "cell_type": "markdown",
   "metadata": {},
   "source": [
    "The following code block contains an 8x8 matrix that will be used as a maze object:"
   ]
  },
  {
   "cell_type": "code",
   "execution_count": 2,
   "metadata": {},
   "outputs": [
    {
     "name": "stdout",
     "output_type": "stream",
     "text": [
      "Environment ready.\n",
      "Grid size: 8 x 8\n",
      "State dimension: 64\n",
      "Number of actions: 4\n"
     ]
    }
   ],
   "source": [
    "# Cell 2 — Define maze and initialize environment \n",
    "\n",
    "maze = np.array([\n",
    "    [1., 0., 1., 1., 1., 1., 1., 1.],\n",
    "    [1., 0., 1., 1., 1., 0., 1., 1.],\n",
    "    [1., 1., 1., 1., 0., 1., 0., 1.],\n",
    "    [1., 1., 1., 0., 1., 1., 1., 1.],\n",
    "    [1., 1., 0., 1., 1., 1., 1., 1.],\n",
    "    [1., 1., 1., 0., 1., 0., 0., 0.],\n",
    "    [1., 1., 1., 0., 1., 1., 1., 1.],\n",
    "    [1., 1., 1., 1., 0., 1., 1., 1.]\n",
    "])\n",
    "\n",
    "start = (0, 1)        # starting position (row, col)\n",
    "goal  = (7, 4)        # treasure position\n",
    "traps = [(5, 7)]      # optional: add any trap coordinates here\n",
    "\n",
    "env = TreasureMaze(grid=maze, start=start, goal=goal, traps=traps)\n",
    "\n",
    "state_dim = env.nrows * env.ncols\n",
    "n_actions = env.n_actions\n",
    "\n",
    "print(\"Environment ready.\")\n",
    "print(\"Grid size:\", env.nrows, \"x\", env.ncols)\n",
    "print(\"State dimension:\", state_dim)\n",
    "print(\"Number of actions:\", n_actions)"
   ]
  },
  {
   "cell_type": "markdown",
   "metadata": {},
   "source": [
    "This helper function allows a visual representation of the maze object:"
   ]
  },
  {
   "cell_type": "code",
   "execution_count": 3,
   "metadata": {},
   "outputs": [],
   "source": [
    "# Cell 3 — Visualization helper \n",
    "\n",
    "def show(env):\n",
    "    plt.grid('on')\n",
    "    nrows, ncols = env.grid.shape\n",
    "    ax = plt.gca()\n",
    "    ax.set_xticks(np.arange(0.5, ncols, 1))\n",
    "    ax.set_yticks(np.arange(0.5, nrows, 1))\n",
    "    ax.set_xticklabels([])\n",
    "    ax.set_yticklabels([])\n",
    "\n",
    "    # copy grid so we can visualize\n",
    "    canvas = np.copy(env.grid).astype(float)\n",
    "\n",
    "    # mark visited cells\n",
    "    for (r, c) in env.visited:\n",
    "        canvas[r, c] = 0.6\n",
    "\n",
    "    # mark pirate/agent position\n",
    "    pr, pc = env.pos\n",
    "    canvas[pr, pc] = 0.3\n",
    "\n",
    "    # mark treasure\n",
    "    gr, gc = env.goal\n",
    "    canvas[gr, gc] = 0.9\n",
    "\n",
    "    # mark traps (if any)\n",
    "    for (tr, tc) in env.traps:\n",
    "        canvas[tr, tc] = 0.2\n",
    "\n",
    "    img = plt.imshow(canvas, interpolation='none', cmap='gray')\n",
    "    return img\n"
   ]
  },
  {
   "cell_type": "markdown",
   "metadata": {},
   "source": [
    "The pirate agent can move in four directions: left, right, up, and down. \n",
    "\n",
    "While the agent primarily learns by experience through exploitation, often, the agent can choose to explore the environment to find previously undiscovered paths. This is called \"exploration\" and is defined by epsilon. This value is typically a lower value such as 0.1, which means for every ten attempts, the agent will attempt to learn by experience nine times and will randomly explore a new path one time. You are encouraged to try various values for the exploration factor and see how the algorithm performs."
   ]
  },
  {
   "cell_type": "code",
   "execution_count": 4,
   "metadata": {},
   "outputs": [
    {
     "name": "stdout",
     "output_type": "stream",
     "text": [
      "Number of actions: 4\n",
      "Actions dict: {3: 'left', 0: 'up', 1: 'right', 2: 'down'}\n",
      "Initial epsilon: 0.1\n"
     ]
    }
   ],
   "source": [
    "# Cell 4 — Action setup & epsilon \n",
    "\n",
    "# Actions already imported from TreasureMaze: UP, RIGHT, DOWN, LEFT\n",
    "# So we just create a readable dictionary\n",
    "actions_dict = {\n",
    "    LEFT: \"left\",\n",
    "    UP: \"up\",\n",
    "    RIGHT: \"right\",\n",
    "    DOWN: \"down\",\n",
    "}\n",
    "\n",
    "# Number of actions comes from the environment\n",
    "num_actions = env.n_actions\n",
    "\n",
    "# Exploration factor (epsilon-greedy)\n",
    "epsilon = 0.1\n",
    "\n",
    "print(\"Number of actions:\", num_actions)\n",
    "print(\"Actions dict:\", actions_dict)\n",
    "print(\"Initial epsilon:\", epsilon)\n",
    "\n"
   ]
  },
  {
   "cell_type": "markdown",
   "metadata": {},
   "source": [
    "The sample code block and output below show creating a maze object and performing one action (DOWN), which returns the reward. The resulting updated environment is visualized."
   ]
  },
  {
   "cell_type": "code",
   "execution_count": 5,
   "metadata": {},
   "outputs": [
    {
     "name": "stdout",
     "output_type": "stream",
     "text": [
      "Initial state shape: (1, 64)\n",
      "Reward after moving DOWN: -1.0\n",
      "Game over? False\n"
     ]
    },
    {
     "data": {
      "image/png": "[encoded data removed]",
      "text/plain": [
       "<Figure size 640x480 with 1 Axes>"
      ]
     },
     "metadata": {},
     "output_type": "display_data"
    }
   ],
   "source": [
    "# Cell 5 — Quick environment test \n",
    "\n",
    "# reset environment\n",
    "state = env.reset(seed=SEED)\n",
    "print(\"Initial state shape:\", state.shape)\n",
    "\n",
    "# take one step (DOWN as test)\n",
    "next_state, reward, done, info = env.step(DOWN)\n",
    "print(\"Reward after moving DOWN:\", reward)\n",
    "print(\"Game over?\", done)\n",
    "\n",
    "# visualize\n",
    "show(env)\n",
    "plt.show()\n"
   ]
  },
  {
   "cell_type": "markdown",
   "metadata": {},
   "source": [
    "This function simulates a full game based on the provided trained model. The other parameters include the TreasureMaze object and the starting position of the pirate."
   ]
  },
  {
   "cell_type": "code",
   "execution_count": 6,
   "metadata": {},
   "outputs": [],
   "source": [
    "# Cell 6 — Evaluation rollout helper\n",
    "\n",
    "def play_game(env, model, epsilon: float = 0.0, max_steps: int = 200, render: bool = False):\n",
    "    \"\"\"\n",
    "    Run one episode using an epsilon-greedy policy.\n",
    "    Returns: total_reward (float), steps (int), success (bool)\n",
    "    \"\"\"\n",
    "    state = env.reset(seed=SEED)\n",
    "    total = 0.0\n",
    "\n",
    "    for t in range(max_steps):\n",
    "        # ε-greedy action selection\n",
    "        if np.random.rand() < epsilon:\n",
    "            action = np.random.randint(env.n_actions)\n",
    "        else:\n",
    "            q = model.predict(state, verbose=0)[0]\n",
    "            action = int(np.argmax(q))\n",
    "\n",
    "        next_state, reward, done, _ = env.step(action)\n",
    "        total += reward\n",
    "        state = next_state\n",
    "\n",
    "        if render:\n",
    "            show(env)\n",
    "            plt.show()\n",
    "            print(f\"step={t}, action={actions_dict[action]}, reward={reward:.2f}, done={done}\")\n",
    "\n",
    "        if done:\n",
    "            return total, t + 1, True\n",
    "\n",
    "    return total, max_steps, False\n"
   ]
  },
  {
   "cell_type": "markdown",
   "metadata": {},
   "source": [
    "This function helps you to determine whether the pirate can win any game at all. If your maze is not well designed, the pirate may not win any game at all. In this case, your training would not yield any result. The provided maze in this notebook ensures that there is a path to win and you can run this method to check."
   ]
  },
  {
   "cell_type": "code",
   "execution_count": 7,
   "metadata": {},
   "outputs": [],
   "source": [
    "# Cell 7 — Policy completion check\n",
    "\n",
    "def completion_check(env, model, trials: int = 5, max_steps: int = 200) -> bool:\n",
    "    \"\"\"\n",
    "    Run several greedy (epsilon=0) episodes from the default start.\n",
    "    Returns True only if all trials reach the goal.\n",
    "    \"\"\"\n",
    "    for i in range(trials):\n",
    "        total, steps, success = play_game(env, model, epsilon=0.0, max_steps=max_steps, render=False)\n",
    "        if not success:\n",
    "            return False\n",
    "    return True\n"
   ]
  },
  {
   "cell_type": "markdown",
   "metadata": {},
   "source": [
    "The code you have been given in this block will build the neural network model. Review the code and note the number of layers, as well as the activation, optimizer, and loss functions that are used to train the model."
   ]
  },
  {
   "cell_type": "code",
   "execution_count": 8,
   "metadata": {},
   "outputs": [
    {
     "name": "stderr",
     "output_type": "stream",
     "text": [
      "/Users/niaz/Desktop/treasure hunt portfolio update/.venv/lib/python3.11/site-packages/keras/src/layers/core/dense.py:92: UserWarning: Do not pass an `input_shape`/`input_dim` argument to a layer. When using Sequential models, prefer using an `Input(shape)` object as the first layer in the model instead.\n",
      "  super().__init__(activity_regularizer=activity_regularizer, **kwargs)\n",
      "2025-09-27 16:48:49.459803: I metal_plugin/src/device/metal_device.cc:1154] Metal device set to: Apple M1 Max\n",
      "2025-09-27 16:48:49.459823: I metal_plugin/src/device/metal_device.cc:296] systemMemory: 32.00 GB\n",
      "2025-09-27 16:48:49.459829: I metal_plugin/src/device/metal_device.cc:313] maxCacheSize: 10.67 GB\n",
      "2025-09-27 16:48:49.459845: I tensorflow/core/common_runtime/pluggable_device/pluggable_device_factory.cc:305] Could not identify NUMA node of platform GPU ID 0, defaulting to 0. Your kernel may not have been built with NUMA support.\n",
      "2025-09-27 16:48:49.459857: I tensorflow/core/common_runtime/pluggable_device/pluggable_device_factory.cc:271] Created TensorFlow device (/job:localhost/replica:0/task:0/device:GPU:0 with 0 MB memory) -> physical PluggableDevice (device: 0, name: METAL, pci bus id: <undefined>)\n"
     ]
    },
    {
     "data": {
      "text/html": [
       "<pre style=\"white-space:pre;overflow-x:auto;line-height:normal;font-family:Menlo,'DejaVu Sans Mono',consolas,'Courier New',monospace\"><span style=\"font-weight: bold\">Model: \"sequential\"</span>\n",
       "</pre>\n"
      ],
      "text/plain": [
       "\u001b[1mModel: \"sequential\"\u001b[0m\n"
      ]
     },
     "metadata": {},
     "output_type": "display_data"
    },
    {
     "data": {
      "text/html": [
       "<pre style=\"white-space:pre;overflow-x:auto;line-height:normal;font-family:Menlo,'DejaVu Sans Mono',consolas,'Courier New',monospace\">┏━━━━━━━━━━━━━━━━━━━━━━━━━━━━━━━━━┳━━━━━━━━━━━━━━━━━━━━━━━━┳━━━━━━━━━━━━━━━┓\n",
       "┃<span style=\"font-weight: bold\"> Layer (type)                    </span>┃<span style=\"font-weight: bold\"> Output Shape           </span>┃<span style=\"font-weight: bold\">       Param # </span>┃\n",
       "┡━━━━━━━━━━━━━━━━━━━━━━━━━━━━━━━━━╇━━━━━━━━━━━━━━━━━━━━━━━━╇━━━━━━━━━━━━━━━┩\n",
       "│ dense (<span style=\"color: #0087ff; text-decoration-color: #0087ff\">Dense</span>)                   │ (<span style=\"color: #00d7ff; text-decoration-color: #00d7ff\">None</span>, <span style=\"color: #00af00; text-decoration-color: #00af00\">64</span>)             │         <span style=\"color: #00af00; text-decoration-color: #00af00\">4,160</span> │\n",
       "├─────────────────────────────────┼────────────────────────┼───────────────┤\n",
       "│ p_re_lu (<span style=\"color: #0087ff; text-decoration-color: #0087ff\">PReLU</span>)                 │ (<span style=\"color: #00d7ff; text-decoration-color: #00d7ff\">None</span>, <span style=\"color: #00af00; text-decoration-color: #00af00\">64</span>)             │            <span style=\"color: #00af00; text-decoration-color: #00af00\">64</span> │\n",
       "├─────────────────────────────────┼────────────────────────┼───────────────┤\n",
       "│ dense_1 (<span style=\"color: #0087ff; text-decoration-color: #0087ff\">Dense</span>)                 │ (<span style=\"color: #00d7ff; text-decoration-color: #00d7ff\">None</span>, <span style=\"color: #00af00; text-decoration-color: #00af00\">64</span>)             │         <span style=\"color: #00af00; text-decoration-color: #00af00\">4,160</span> │\n",
       "├─────────────────────────────────┼────────────────────────┼───────────────┤\n",
       "│ p_re_lu_1 (<span style=\"color: #0087ff; text-decoration-color: #0087ff\">PReLU</span>)               │ (<span style=\"color: #00d7ff; text-decoration-color: #00d7ff\">None</span>, <span style=\"color: #00af00; text-decoration-color: #00af00\">64</span>)             │            <span style=\"color: #00af00; text-decoration-color: #00af00\">64</span> │\n",
       "├─────────────────────────────────┼────────────────────────┼───────────────┤\n",
       "│ dense_2 (<span style=\"color: #0087ff; text-decoration-color: #0087ff\">Dense</span>)                 │ (<span style=\"color: #00d7ff; text-decoration-color: #00d7ff\">None</span>, <span style=\"color: #00af00; text-decoration-color: #00af00\">4</span>)              │           <span style=\"color: #00af00; text-decoration-color: #00af00\">260</span> │\n",
       "└─────────────────────────────────┴────────────────────────┴───────────────┘\n",
       "</pre>\n"
      ],
      "text/plain": [
       "┏━━━━━━━━━━━━━━━━━━━━━━━━━━━━━━━━━┳━━━━━━━━━━━━━━━━━━━━━━━━┳━━━━━━━━━━━━━━━┓\n",
       "┃\u001b[1m \u001b[0m\u001b[1mLayer (type)                   \u001b[0m\u001b[1m \u001b[0m┃\u001b[1m \u001b[0m\u001b[1mOutput Shape          \u001b[0m\u001b[1m \u001b[0m┃\u001b[1m \u001b[0m\u001b[1m      Param #\u001b[0m\u001b[1m \u001b[0m┃\n",
       "┡━━━━━━━━━━━━━━━━━━━━━━━━━━━━━━━━━╇━━━━━━━━━━━━━━━━━━━━━━━━╇━━━━━━━━━━━━━━━┩\n",
       "│ dense (\u001b[38;5;33mDense\u001b[0m)                   │ (\u001b[38;5;45mNone\u001b[0m, \u001b[38;5;34m64\u001b[0m)             │         \u001b[38;5;34m4,160\u001b[0m │\n",
       "├─────────────────────────────────┼────────────────────────┼───────────────┤\n",
       "│ p_re_lu (\u001b[38;5;33mPReLU\u001b[0m)                 │ (\u001b[38;5;45mNone\u001b[0m, \u001b[38;5;34m64\u001b[0m)             │            \u001b[38;5;34m64\u001b[0m │\n",
       "├─────────────────────────────────┼────────────────────────┼───────────────┤\n",
       "│ dense_1 (\u001b[38;5;33mDense\u001b[0m)                 │ (\u001b[38;5;45mNone\u001b[0m, \u001b[38;5;34m64\u001b[0m)             │         \u001b[38;5;34m4,160\u001b[0m │\n",
       "├─────────────────────────────────┼────────────────────────┼───────────────┤\n",
       "│ p_re_lu_1 (\u001b[38;5;33mPReLU\u001b[0m)               │ (\u001b[38;5;45mNone\u001b[0m, \u001b[38;5;34m64\u001b[0m)             │            \u001b[38;5;34m64\u001b[0m │\n",
       "├─────────────────────────────────┼────────────────────────┼───────────────┤\n",
       "│ dense_2 (\u001b[38;5;33mDense\u001b[0m)                 │ (\u001b[38;5;45mNone\u001b[0m, \u001b[38;5;34m4\u001b[0m)              │           \u001b[38;5;34m260\u001b[0m │\n",
       "└─────────────────────────────────┴────────────────────────┴───────────────┘\n"
      ]
     },
     "metadata": {},
     "output_type": "display_data"
    },
    {
     "data": {
      "text/html": [
       "<pre style=\"white-space:pre;overflow-x:auto;line-height:normal;font-family:Menlo,'DejaVu Sans Mono',consolas,'Courier New',monospace\"><span style=\"font-weight: bold\"> Total params: </span><span style=\"color: #00af00; text-decoration-color: #00af00\">8,708</span> (34.02 KB)\n",
       "</pre>\n"
      ],
      "text/plain": [
       "\u001b[1m Total params: \u001b[0m\u001b[38;5;34m8,708\u001b[0m (34.02 KB)\n"
      ]
     },
     "metadata": {},
     "output_type": "display_data"
    },
    {
     "data": {
      "text/html": [
       "<pre style=\"white-space:pre;overflow-x:auto;line-height:normal;font-family:Menlo,'DejaVu Sans Mono',consolas,'Courier New',monospace\"><span style=\"font-weight: bold\"> Trainable params: </span><span style=\"color: #00af00; text-decoration-color: #00af00\">8,708</span> (34.02 KB)\n",
       "</pre>\n"
      ],
      "text/plain": [
       "\u001b[1m Trainable params: \u001b[0m\u001b[38;5;34m8,708\u001b[0m (34.02 KB)\n"
      ]
     },
     "metadata": {},
     "output_type": "display_data"
    },
    {
     "data": {
      "text/html": [
       "<pre style=\"white-space:pre;overflow-x:auto;line-height:normal;font-family:Menlo,'DejaVu Sans Mono',consolas,'Courier New',monospace\"><span style=\"font-weight: bold\"> Non-trainable params: </span><span style=\"color: #00af00; text-decoration-color: #00af00\">0</span> (0.00 B)\n",
       "</pre>\n"
      ],
      "text/plain": [
       "\u001b[1m Non-trainable params: \u001b[0m\u001b[38;5;34m0\u001b[0m (0.00 B)\n"
      ]
     },
     "metadata": {},
     "output_type": "display_data"
    }
   ],
   "source": [
    "from tensorflow.keras.layers import PReLU\n",
    "\n",
    "def build_model(state_dim, num_actions, lr=0.001):\n",
    "    model = Sequential()\n",
    "    model.add(Dense(state_dim, input_shape=(state_dim,)))\n",
    "    model.add(PReLU())\n",
    "    model.add(Dense(state_dim))\n",
    "    model.add(PReLU())\n",
    "    model.add(Dense(num_actions))\n",
    "    model.compile(optimizer=Adam(learning_rate=lr), loss=\"mse\")\n",
    "    return model\n",
    "\n",
    "# Build the model using env dimensions\n",
    "model = build_model(state_dim, num_actions, lr=0.001)\n",
    "model.summary()\n",
    "\n"
   ]
  },
  {
   "cell_type": "markdown",
   "metadata": {},
   "source": [
    "# #TODO: Complete the Q-Training Algorithm Code Block\n",
    "\n",
    "This is your deep Q-learning implementation. The goal of your deep Q-learning implementation is to find the best possible navigation sequence that results in reaching the treasure cell while maximizing the reward. In your implementation, you need to determine the optimal number of epochs to achieve a 100% win rate.\n",
    "\n",
    "You will need to complete the section starting with #pseudocode. The pseudocode has been included for you."
   ]
  },
  {
   "cell_type": "code",
   "execution_count": 9,
   "metadata": {},
   "outputs": [],
   "source": [
    "# Cell 9 — Training loop\n",
    "\n",
    "def format_time(seconds):\n",
    "    if seconds < 400:\n",
    "        return f\"{seconds:.1f} seconds\"\n",
    "    elif seconds < 4000:\n",
    "        return f\"{seconds/60.0:.2f} minutes\"\n",
    "    else:\n",
    "        return f\"{seconds/3600.0:.2f} hours\"\n",
    "\n",
    "def qtrain(env,\n",
    "           model,\n",
    "           episodes=200,\n",
    "           max_steps=200,\n",
    "           gamma=0.95,\n",
    "           start_epsilon=1.0,\n",
    "           min_epsilon=0.05,\n",
    "           epsilon_decay=0.995,\n",
    "           buffer_capacity=5000,\n",
    "           batch_size=64,\n",
    "           warmup=200,\n",
    "           train_epochs=1,\n",
    "           verbose=True):\n",
    "    print(\"qtrain: starting…\", flush=True)\n",
    "\n",
    "    experience = GameExperience(model=model, max_memory=buffer_capacity, discount=gamma, seed=SEED)\n",
    "    epsilon = start_epsilon\n",
    "    returns, steps_hist, win_history = [], [], []\n",
    "\n",
    "    t0 = time.time()\n",
    "    for ep in range(1, episodes + 1):\n",
    "        state = env.reset(seed=SEED + ep)\n",
    "        total_reward = 0.0\n",
    "        done = False\n",
    "\n",
    "        for t in range(max_steps):\n",
    "            if np.random.rand() < epsilon:\n",
    "                action = np.random.randint(env.n_actions)\n",
    "            else:\n",
    "                q = model.predict(state, verbose=0)[0]\n",
    "                action = int(np.argmax(q))\n",
    "\n",
    "            next_state, reward, done, _ = env.step(action)\n",
    "            experience.remember([state, action, reward, next_state, done])\n",
    "            total_reward += reward\n",
    "            state = next_state\n",
    "\n",
    "            if len(experience) >= max(batch_size, warmup):\n",
    "                inputs, targets = experience.get_data(batch_size=batch_size)\n",
    "                model.fit(inputs, targets, epochs=train_epochs, verbose=0)\n",
    "\n",
    "            if done:\n",
    "                break\n",
    "\n",
    "        epsilon = max(min_epsilon, epsilon * epsilon_decay)\n",
    "\n",
    "        returns.append(total_reward)\n",
    "        steps_hist.append(t + 1)\n",
    "        win_history.append(1 if done else 0)\n",
    "\n",
    "        if verbose and (ep % 10 == 0 or ep == 1):\n",
    "            win50 = np.mean(win_history[-50:]) if len(win_history) >= 50 else np.mean(win_history)\n",
    "            print(f\"EP {ep:03d} | return={total_reward:7.2f} | steps={t+1:3d} | eps={epsilon:.3f} | win50={win50:.2f}\", flush=True)\n",
    "\n",
    "        if len(win_history) >= 100 and np.mean(win_history[-100:]) >= 0.95:\n",
    "            print(f\"Early stop at EP {ep} (≥95% wins over last 100)\", flush=True)\n",
    "            break\n",
    "\n",
    "    info = {\n",
    "        \"returns\": np.array(returns),\n",
    "        \"steps\":   np.array(steps_hist),\n",
    "        \"wins\":    np.array(win_history),\n",
    "        \"duration\": format_time(time.time() - t0),\n",
    "    }\n",
    "    print(\"qtrain: finished.\", flush=True)\n",
    "    return model, info"
   ]
  },
  {
   "cell_type": "markdown",
   "metadata": {},
   "source": [
    "## Test Your Model\n",
    "\n",
    "Now we will start testing the deep Q-learning implementation. To begin, select **Cell**, then **Run All** from the menu bar. This will run your notebook. As it runs, you should see output begin to appear beneath the next few cells. The code below creates an instance of TreasureMaze."
   ]
  },
  {
   "cell_type": "code",
   "execution_count": 10,
   "metadata": {},
   "outputs": [
    {
     "data": {
      "image/png": "[encoded data removed]",
      "text/plain": [
       "<Figure size 640x480 with 1 Axes>"
      ]
     },
     "metadata": {},
     "output_type": "display_data"
    }
   ],
   "source": [
    "# Cell 10 — Environment visualization test\n",
    "\n",
    "# Reset environment\n",
    "env.reset(seed=SEED)\n",
    "\n",
    "# Show the maze with agent start, treasure, and traps\n",
    "show(env)\n",
    "plt.show()\n"
   ]
  },
  {
   "cell_type": "markdown",
   "metadata": {},
   "source": [
    "In the next code block, you will build your model and train it using deep Q-learning. Note: This step takes several minutes to fully run."
   ]
  },
  {
   "cell_type": "code",
   "execution_count": null,
   "metadata": {},
   "outputs": [],
   "source": [
    "# Cell 11 — Train the model\n",
    "\n",
    "# Build a fresh model (with proper Input layer to avoid warnings)\n",
    "model = build_model(state_dim, num_actions, lr=0.001)\n",
    "\n",
    "# Train using replay buffer + epsilon-greedy\n",
    "trained_model, log = qtrain(\n",
    "    env=env,\n",
    "    model=model,\n",
    "    episodes=500,        # you can start smaller to test quickly\n",
    "    max_steps=200,       # max steps per episode\n",
    "    gamma=0.95,          # discount factor\n",
    "    start_epsilon=1.0,\n",
    "    min_epsilon=0.05,\n",
    "    epsilon_decay=0.995,\n",
    "    buffer_capacity=5000,\n",
    "    batch_size=64,\n",
    "    warmup=200,\n",
    "    train_epochs=1,\n",
    "    verbose=True\n",
    ")\n",
    "\n",
    "print(\"Training complete in\", log[\"duration\"])\n"
   ]
  },
  {
   "cell_type": "markdown",
   "metadata": {},
   "source": [
    "This cell will check to see if the model passes the completion check. Note: This could take several minutes."
   ]
  },
  {
   "cell_type": "code",
   "execution_count": null,
   "metadata": {},
   "outputs": [],
   "source": [
    "# Cell 12 — Completion check (REPLACE THIS CELL)\n",
    "\n",
    "passed = completion_check(env, trained_model, trials=5, max_steps=200)\n",
    "print(\"Completion check passed?\", passed)\n",
    "\n",
    "# Visualize final environment state\n",
    "env.reset(seed=SEED)\n",
    "show(env)\n",
    "plt.show()"
   ]
  },
  {
   "cell_type": "markdown",
   "metadata": {},
   "source": [
    "This cell will test your model for one game. It will start the pirate at the top-left corner and run play_game. The agent should find a path from the starting position to the target (treasure). The treasure is located in the bottom-right corner."
   ]
  },
  {
   "cell_type": "code",
   "execution_count": null,
   "metadata": {},
   "outputs": [],
   "source": [
    "# Cell 13 — Single-episode test (REPLACE THIS CELL)\n",
    "\n",
    "# Optional: choose a custom starting cell (row, col)\n",
    "pirate_start = (0, 0)\n",
    "\n",
    "# Validate and apply the custom start (must be in-bounds and not a wall)\n",
    "r, c = pirate_start\n",
    "if 0 <= r < env.nrows and 0 <= c < env.ncols and env.grid[r, c] != 1:\n",
    "    env.start = pirate_start\n",
    "else:\n",
    "    print(f\"Invalid start {pirate_start}; using default start {env.start}\")\n",
    "\n",
    "# Run one greedy episode (epsilon=0.0)\n",
    "total, steps, success = play_game(env, trained_model, epsilon=0.0, max_steps=200, render=False)\n",
    "print(f\"Single run -> success: {success}, return: {total:.2f}, steps: {steps}\")\n",
    "\n",
    "# Show final state after the episode\n",
    "show(env)\n",
    "plt.show()"
   ]
  },
  {
   "cell_type": "code",
   "execution_count": null,
   "metadata": {},
   "outputs": [],
   "source": [
    "# Plot returns & epsilon\n",
    "def moving_average(x, k=20):\n",
    "    if len(x) < k: return x\n",
    "    return np.convolve(x, np.ones(k)/k, mode=\"valid\")\n",
    "\n",
    "plt.figure(figsize=(8,4))\n",
    "plt.plot(log[\"returns\"], label=\"return\")\n",
    "ma = moving_average(log[\"returns\"], k=20)\n",
    "pad = [np.nan]*(len(log[\"returns\"]) - len(ma))\n",
    "plt.plot(pad + list(ma), label=\"return (MA20)\")\n",
    "plt.title(\"Training Return per Episode\"); plt.xlabel(\"Episode\"); plt.ylabel(\"Return\"); plt.legend(); plt.show()\n",
    "\n",
    "plt.figure(figsize=(8,4))\n",
    "plt.plot(np.linspace(0,1,len(log[\"returns\"])), label=\"progress proxy\", alpha=0)  # keep axes clean\n",
    "plt.plot(np.linspace(0,1,len(log[\"returns\"])), alpha=0)  # dummy to prevent style warnings\n"
   ]
  },
  {
   "cell_type": "code",
   "execution_count": null,
   "metadata": {},
   "outputs": [],
   "source": [
    "# Evaluate N greedy episodes\n",
    "N = 20\n",
    "totals, steps, wins = [], [], 0\n",
    "for _ in range(N):\n",
    "    total, s, ok = play_game(env, trained_model, epsilon=0.0, max_steps=200, render=False)\n",
    "    totals.append(total); steps.append(s); wins += int(ok)\n",
    "print(f\"Greedy eval: {wins}/{N} successes  |  Avg return: {np.mean(totals):.2f}  |  Avg steps: {np.mean(steps):.1f}\")"
   ]
  },
  {
   "cell_type": "markdown",
   "metadata": {},
   "source": [
    "## Save and Submit Your Work\n",
    "After you have finished creating the code for your notebook, save your work. Make sure that your notebook contains your name in the filename (e.g. Doe_Jane_ProjectTwo.ipynb). This will help your instructor access and grade your work easily. Download a copy of your IPYNB file and submit it to Brightspace. Refer to the Jupyter Notebook in Apporto Tutorial if you need help with these tasks."
   ]
  }
 ],
 "metadata": {
  "kernelspec": {
   "display_name": "Python (cs499-treasure)",
   "language": "python",
   "name": "cs499-treasure"
  },
  "language_info": {
   "codemirror_mode": {
    "name": "ipython",
    "version": 3
   },
   "file_extension": ".py",
   "mimetype": "text/x-python",
   "name": "python",
   "nbconvert_exporter": "python",
   "pygments_lexer": "ipython3",
   "version": "3.11.13"
  }
 },
 "nbformat": 4,
 "nbformat_minor": 4
}
